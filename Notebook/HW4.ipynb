{
 "cells": [
  {
   "cell_type": "markdown",
   "metadata": {},
   "source": [
    "# Major Leagues"
   ]
  },
  {
   "cell_type": "markdown",
   "metadata": {},
   "source": [
    "#### Submitted By: Arman Ghasemi KU ID: 2970754 Email: arman.ghasemi@ku.edu"
   ]
  },
  {
   "cell_type": "markdown",
   "metadata": {},
   "source": [
    "In this project datasets related to the soccer has been chosen and the goal is to apply some feature engineering and also to some regression models to predict the score of each team."
   ]
  },
  {
   "cell_type": "markdown",
   "metadata": {},
   "source": [
    "#### Data Source : https://github.com/fivethirtyeight/data/tree/master/soccer-spi"
   ]
  },
  {
   "cell_type": "markdown",
   "metadata": {},
   "source": [
    "### Importing Libraries"
   ]
  },
  {
   "cell_type": "markdown",
   "metadata": {},
   "source": [
    "First of all useful library should be imported."
   ]
  },
  {
   "cell_type": "code",
   "execution_count": 1,
   "metadata": {},
   "outputs": [],
   "source": [
    "import pandas as pd\n",
    "import matplotlib.pyplot as plt\n",
    "import seaborn as sns\n",
    "from sklearn.model_selection import train_test_split\n",
    "from sklearn.linear_model import LinearRegression\n",
    "from statistics import mean\n",
    "from sklearn.ensemble import RandomForestRegressor"
   ]
  },
  {
   "cell_type": "markdown",
   "metadata": {},
   "source": [
    "#### Reading datasets"
   ]
  },
  {
   "cell_type": "code",
   "execution_count": 2,
   "metadata": {},
   "outputs": [],
   "source": [
    "DF = pd.read_csv('https://raw.githubusercontent.com/armangh67/Major-Leagues/master/datasets/spi_matches.csv', low_memory = False)"
   ]
  },
  {
   "cell_type": "code",
   "execution_count": 3,
   "metadata": {},
   "outputs": [
    {
     "data": {
      "text/html": [
       "<div>\n",
       "<style scoped>\n",
       "    .dataframe tbody tr th:only-of-type {\n",
       "        vertical-align: middle;\n",
       "    }\n",
       "\n",
       "    .dataframe tbody tr th {\n",
       "        vertical-align: top;\n",
       "    }\n",
       "\n",
       "    .dataframe thead th {\n",
       "        text-align: right;\n",
       "    }\n",
       "</style>\n",
       "<table border=\"1\" class=\"dataframe\">\n",
       "  <thead>\n",
       "    <tr style=\"text-align: right;\">\n",
       "      <th></th>\n",
       "      <th>date</th>\n",
       "      <th>league_id</th>\n",
       "      <th>league</th>\n",
       "      <th>team1</th>\n",
       "      <th>team2</th>\n",
       "      <th>spi1</th>\n",
       "      <th>spi2</th>\n",
       "      <th>prob1</th>\n",
       "      <th>prob2</th>\n",
       "      <th>probtie</th>\n",
       "      <th>...</th>\n",
       "      <th>importance1</th>\n",
       "      <th>importance2</th>\n",
       "      <th>score1</th>\n",
       "      <th>score2</th>\n",
       "      <th>xg1</th>\n",
       "      <th>xg2</th>\n",
       "      <th>nsxg1</th>\n",
       "      <th>nsxg2</th>\n",
       "      <th>adj_score1</th>\n",
       "      <th>adj_score2</th>\n",
       "    </tr>\n",
       "  </thead>\n",
       "  <tbody>\n",
       "    <tr>\n",
       "      <td>0</td>\n",
       "      <td>2016-08-12</td>\n",
       "      <td>1843</td>\n",
       "      <td>French Ligue 1</td>\n",
       "      <td>Bastia</td>\n",
       "      <td>Paris Saint-Germain</td>\n",
       "      <td>51.16</td>\n",
       "      <td>85.68</td>\n",
       "      <td>0.0463</td>\n",
       "      <td>0.8380</td>\n",
       "      <td>0.1157</td>\n",
       "      <td>...</td>\n",
       "      <td>32.4</td>\n",
       "      <td>67.7</td>\n",
       "      <td>0.0</td>\n",
       "      <td>1.0</td>\n",
       "      <td>0.97</td>\n",
       "      <td>0.63</td>\n",
       "      <td>0.43</td>\n",
       "      <td>0.45</td>\n",
       "      <td>0.00</td>\n",
       "      <td>1.05</td>\n",
       "    </tr>\n",
       "    <tr>\n",
       "      <td>1</td>\n",
       "      <td>2016-08-12</td>\n",
       "      <td>1843</td>\n",
       "      <td>French Ligue 1</td>\n",
       "      <td>AS Monaco</td>\n",
       "      <td>Guingamp</td>\n",
       "      <td>68.85</td>\n",
       "      <td>56.48</td>\n",
       "      <td>0.5714</td>\n",
       "      <td>0.1669</td>\n",
       "      <td>0.2617</td>\n",
       "      <td>...</td>\n",
       "      <td>53.7</td>\n",
       "      <td>22.9</td>\n",
       "      <td>2.0</td>\n",
       "      <td>2.0</td>\n",
       "      <td>2.45</td>\n",
       "      <td>0.77</td>\n",
       "      <td>1.75</td>\n",
       "      <td>0.42</td>\n",
       "      <td>2.10</td>\n",
       "      <td>2.10</td>\n",
       "    </tr>\n",
       "    <tr>\n",
       "      <td>2</td>\n",
       "      <td>2016-08-13</td>\n",
       "      <td>2411</td>\n",
       "      <td>Barclays Premier League</td>\n",
       "      <td>Hull City</td>\n",
       "      <td>Leicester City</td>\n",
       "      <td>53.57</td>\n",
       "      <td>66.81</td>\n",
       "      <td>0.3459</td>\n",
       "      <td>0.3621</td>\n",
       "      <td>0.2921</td>\n",
       "      <td>...</td>\n",
       "      <td>38.1</td>\n",
       "      <td>22.2</td>\n",
       "      <td>2.0</td>\n",
       "      <td>1.0</td>\n",
       "      <td>0.85</td>\n",
       "      <td>2.77</td>\n",
       "      <td>0.17</td>\n",
       "      <td>1.25</td>\n",
       "      <td>2.10</td>\n",
       "      <td>1.05</td>\n",
       "    </tr>\n",
       "    <tr>\n",
       "      <td>3</td>\n",
       "      <td>2016-08-13</td>\n",
       "      <td>2411</td>\n",
       "      <td>Barclays Premier League</td>\n",
       "      <td>Crystal Palace</td>\n",
       "      <td>West Bromwich Albion</td>\n",
       "      <td>55.19</td>\n",
       "      <td>58.66</td>\n",
       "      <td>0.4214</td>\n",
       "      <td>0.2939</td>\n",
       "      <td>0.2847</td>\n",
       "      <td>...</td>\n",
       "      <td>43.6</td>\n",
       "      <td>34.6</td>\n",
       "      <td>0.0</td>\n",
       "      <td>1.0</td>\n",
       "      <td>1.11</td>\n",
       "      <td>0.68</td>\n",
       "      <td>0.84</td>\n",
       "      <td>1.60</td>\n",
       "      <td>0.00</td>\n",
       "      <td>1.05</td>\n",
       "    </tr>\n",
       "    <tr>\n",
       "      <td>4</td>\n",
       "      <td>2016-08-13</td>\n",
       "      <td>2411</td>\n",
       "      <td>Barclays Premier League</td>\n",
       "      <td>Everton</td>\n",
       "      <td>Tottenham Hotspur</td>\n",
       "      <td>68.02</td>\n",
       "      <td>73.25</td>\n",
       "      <td>0.3910</td>\n",
       "      <td>0.3401</td>\n",
       "      <td>0.2689</td>\n",
       "      <td>...</td>\n",
       "      <td>31.9</td>\n",
       "      <td>48.0</td>\n",
       "      <td>1.0</td>\n",
       "      <td>1.0</td>\n",
       "      <td>0.73</td>\n",
       "      <td>1.11</td>\n",
       "      <td>0.88</td>\n",
       "      <td>1.81</td>\n",
       "      <td>1.05</td>\n",
       "      <td>1.05</td>\n",
       "    </tr>\n",
       "  </tbody>\n",
       "</table>\n",
       "<p>5 rows × 22 columns</p>\n",
       "</div>"
      ],
      "text/plain": [
       "         date  league_id                   league           team1  \\\n",
       "0  2016-08-12       1843           French Ligue 1          Bastia   \n",
       "1  2016-08-12       1843           French Ligue 1       AS Monaco   \n",
       "2  2016-08-13       2411  Barclays Premier League       Hull City   \n",
       "3  2016-08-13       2411  Barclays Premier League  Crystal Palace   \n",
       "4  2016-08-13       2411  Barclays Premier League         Everton   \n",
       "\n",
       "                  team2   spi1   spi2   prob1   prob2  probtie  ...  \\\n",
       "0   Paris Saint-Germain  51.16  85.68  0.0463  0.8380   0.1157  ...   \n",
       "1              Guingamp  68.85  56.48  0.5714  0.1669   0.2617  ...   \n",
       "2        Leicester City  53.57  66.81  0.3459  0.3621   0.2921  ...   \n",
       "3  West Bromwich Albion  55.19  58.66  0.4214  0.2939   0.2847  ...   \n",
       "4     Tottenham Hotspur  68.02  73.25  0.3910  0.3401   0.2689  ...   \n",
       "\n",
       "   importance1  importance2  score1  score2   xg1   xg2  nsxg1  nsxg2  \\\n",
       "0         32.4         67.7     0.0     1.0  0.97  0.63   0.43   0.45   \n",
       "1         53.7         22.9     2.0     2.0  2.45  0.77   1.75   0.42   \n",
       "2         38.1         22.2     2.0     1.0  0.85  2.77   0.17   1.25   \n",
       "3         43.6         34.6     0.0     1.0  1.11  0.68   0.84   1.60   \n",
       "4         31.9         48.0     1.0     1.0  0.73  1.11   0.88   1.81   \n",
       "\n",
       "   adj_score1  adj_score2  \n",
       "0        0.00        1.05  \n",
       "1        2.10        2.10  \n",
       "2        2.10        1.05  \n",
       "3        0.00        1.05  \n",
       "4        1.05        1.05  \n",
       "\n",
       "[5 rows x 22 columns]"
      ]
     },
     "execution_count": 3,
     "metadata": {},
     "output_type": "execute_result"
    }
   ],
   "source": [
    "DF.head()"
   ]
  },
  {
   "cell_type": "markdown",
   "metadata": {},
   "source": [
    "To understand the dataset better, the info has been shown as below."
   ]
  },
  {
   "cell_type": "code",
   "execution_count": 4,
   "metadata": {},
   "outputs": [
    {
     "name": "stdout",
     "output_type": "stream",
     "text": [
      "<class 'pandas.core.frame.DataFrame'>\n",
      "RangeIndex: 32278 entries, 0 to 32277\n",
      "Data columns (total 22 columns):\n",
      "date           32278 non-null object\n",
      "league_id      32278 non-null int64\n",
      "league         32278 non-null object\n",
      "team1          32278 non-null object\n",
      "team2          32278 non-null object\n",
      "spi1           32278 non-null float64\n",
      "spi2           32278 non-null float64\n",
      "prob1          32278 non-null float64\n",
      "prob2          32278 non-null float64\n",
      "probtie        32278 non-null float64\n",
      "proj_score1    32278 non-null float64\n",
      "proj_score2    32278 non-null float64\n",
      "importance1    23161 non-null float64\n",
      "importance2    23161 non-null float64\n",
      "score1         27373 non-null float64\n",
      "score2         27373 non-null float64\n",
      "xg1            14974 non-null float64\n",
      "xg2            14974 non-null float64\n",
      "nsxg1          14974 non-null float64\n",
      "nsxg2          14974 non-null float64\n",
      "adj_score1     14974 non-null float64\n",
      "adj_score2     14974 non-null float64\n",
      "dtypes: float64(17), int64(1), object(4)\n",
      "memory usage: 5.4+ MB\n",
      "None\n"
     ]
    }
   ],
   "source": [
    "print(DF.info())"
   ]
  },
  {
   "cell_type": "markdown",
   "metadata": {},
   "source": [
    "## Feature Engineering"
   ]
  },
  {
   "cell_type": "markdown",
   "metadata": {},
   "source": [
    "### Teams with highest score"
   ]
  },
  {
   "cell_type": "markdown",
   "metadata": {},
   "source": [
    "We can easily find the teams which score the highest goals in the dataset with the approach given below."
   ]
  },
  {
   "cell_type": "code",
   "execution_count": 5,
   "metadata": {},
   "outputs": [
    {
     "data": {
      "image/png": "[encoded data removed]",
      "text/plain": [
       "<Figure size 720x720 with 1 Axes>"
      ]
     },
     "metadata": {
      "needs_background": "light"
     },
     "output_type": "display_data"
    }
   ],
   "source": [
    "Home_Team = DF.groupby(\"team1\")[\"score1\"].sum().reset_index()\n",
    "Away_Team = DF.groupby(\"team2\")[\"score2\"].sum().reset_index()\n",
    "Home_Team = Home_Team.sort_values(by=\"team1\",ascending= False)\n",
    "Away_Team = Away_Team.sort_values(by=\"team2\",ascending= False)\n",
    "HT = Home_Team\n",
    "HT = HT.rename(columns={'team1':\"Team\", 'score1':\"Goals\"})\n",
    "AT = Away_Team\n",
    "AT = AT.rename(columns={'team2':\"Team\", 'score2':\"Goals\"})\n",
    "Goals = pd.concat([HT,AT])\n",
    "Goals = Goals.groupby(\"Team\")[\"Goals\"].sum().reset_index().sort_values(by = \"Goals\",ascending = False)\n",
    "plt.figure(figsize=(10,10))\n",
    "ax = sns.barplot(x=\"Goals\",y=\"Team\",\n",
    "                  data=Goals[:20],palette=\"rainbow\",\n",
    "                 linewidth = 1,edgecolor = \"k\"*20)\n",
    "for i,j in enumerate(Goals[\"Goals\"][:20]):\n",
    "    ax.text(.3,i,j,weight=\"bold\",color = \"k\",fontsize =12)\n",
    "plt.title(\" 20 Teams with highest goals score \")\n",
    "plt.show()"
   ]
  },
  {
   "cell_type": "markdown",
   "metadata": {},
   "source": [
    "## Cleaning the Datasets"
   ]
  },
  {
   "cell_type": "markdown",
   "metadata": {},
   "source": [
    "All the missing data in the dataset should be removed."
   ]
  },
  {
   "cell_type": "code",
   "execution_count": 6,
   "metadata": {},
   "outputs": [],
   "source": [
    "DF_new =DF.dropna(how = 'any')"
   ]
  },
  {
   "cell_type": "code",
   "execution_count": 7,
   "metadata": {},
   "outputs": [
    {
     "data": {
      "text/plain": [
       "date           0\n",
       "league_id      0\n",
       "league         0\n",
       "team1          0\n",
       "team2          0\n",
       "spi1           0\n",
       "spi2           0\n",
       "prob1          0\n",
       "prob2          0\n",
       "probtie        0\n",
       "proj_score1    0\n",
       "proj_score2    0\n",
       "importance1    0\n",
       "importance2    0\n",
       "score1         0\n",
       "score2         0\n",
       "xg1            0\n",
       "xg2            0\n",
       "nsxg1          0\n",
       "nsxg2          0\n",
       "adj_score1     0\n",
       "adj_score2     0\n",
       "dtype: int64"
      ]
     },
     "execution_count": 7,
     "metadata": {},
     "output_type": "execute_result"
    }
   ],
   "source": [
    "DF_new.isnull().sum()"
   ]
  },
  {
   "cell_type": "code",
   "execution_count": 8,
   "metadata": {},
   "outputs": [
    {
     "data": {
      "text/plain": [
       "(13152, 22)"
      ]
     },
     "execution_count": 8,
     "metadata": {},
     "output_type": "execute_result"
    }
   ],
   "source": [
    "DF_new.shape"
   ]
  },
  {
   "cell_type": "markdown",
   "metadata": {},
   "source": [
    "### Correlation Map"
   ]
  },
  {
   "cell_type": "markdown",
   "metadata": {},
   "source": [
    "To see the correlation between the attributes we can plot the correlation map among all features."
   ]
  },
  {
   "cell_type": "code",
   "execution_count": 9,
   "metadata": {},
   "outputs": [
    {
     "data": {
      "text/plain": [
       "<matplotlib.axes._subplots.AxesSubplot at 0x255a3089bc8>"
      ]
     },
     "execution_count": 9,
     "metadata": {},
     "output_type": "execute_result"
    },
    {
     "data": {
      "image/png": "[encoded data removed]",
      "text/plain": [
       "<Figure size 720x720 with 2 Axes>"
      ]
     },
     "metadata": {
      "needs_background": "light"
     },
     "output_type": "display_data"
    }
   ],
   "source": [
    "fig, ax = plt.subplots(figsize=(14,12)) \n",
    "cor = DF_new.corr()\n",
    "sns.heatmap(cor, square = True, linewidths=0.1, annot=True, ax=ax)"
   ]
  },
  {
   "cell_type": "markdown",
   "metadata": {},
   "source": [
    "It is obviously can be seen that the features such as prob1&prob2, prob1&proj_score2 and prob2&proj_score1 have the highest correlation."
   ]
  },
  {
   "cell_type": "markdown",
   "metadata": {},
   "source": [
    "## Regression Models"
   ]
  },
  {
   "cell_type": "markdown",
   "metadata": {},
   "source": [
    "### Linear Regression"
   ]
  },
  {
   "cell_type": "markdown",
   "metadata": {},
   "source": [
    "Now we want to build a model with Linear Regression to predict the Score1."
   ]
  },
  {
   "cell_type": "code",
   "execution_count": 10,
   "metadata": {},
   "outputs": [],
   "source": [
    "X = DF_new[['spi1','spi2','prob1', 'prob2' , 'probtie' , 'adj_score1' , 'adj_score2'  , 'xg1' , 'xg2' , 'nsxg1', 'nsxg2' ]].values\n",
    "Y = DF_new['score1'].values\n",
    "xTrain, xTest, yTrain, yTest = train_test_split(X, Y, test_size = 0.3)\n",
    "LR = LinearRegression()\n",
    "LR.fit(xTrain, yTrain)\n",
    "yPrediction = LR.predict(xTest)"
   ]
  },
  {
   "cell_type": "code",
   "execution_count": 12,
   "metadata": {},
   "outputs": [
    {
     "name": "stdout",
     "output_type": "stream",
     "text": [
      "      Score1 actual value  Score1 prediction\n",
      "0                     1.0           1.144254\n",
      "1                     2.0           2.202857\n",
      "2                     2.0           2.083440\n",
      "3                     1.0           1.070178\n",
      "4                     2.0           2.121817\n",
      "...                   ...                ...\n",
      "3941                  1.0           1.046599\n",
      "3942                  2.0           2.118045\n",
      "3943                  4.0           4.205045\n",
      "3944                  3.0           3.103134\n",
      "3945                  2.0           2.122095\n",
      "\n",
      "[3946 rows x 2 columns]\n"
     ]
    }
   ],
   "source": [
    "Prediction_Table = pd.DataFrame ({'Score1 actual value':yTest , 'Score1 prediction': yPrediction})\n",
    "print(Prediction_Table)"
   ]
  },
  {
   "cell_type": "markdown",
   "metadata": {},
   "source": [
    "To see the propose model errors:"
   ]
  },
  {
   "cell_type": "code",
   "execution_count": 16,
   "metadata": {},
   "outputs": [
    {
     "name": "stdout",
     "output_type": "stream",
     "text": [
      "The Max value of errors is 2.0604803144476627 \n",
      "And the Min value of errors is -1.5705825232775688\n",
      "Average value of errors is 0.0019314961552552717\n"
     ]
    }
   ],
   "source": [
    "errors = list()\n",
    "n = 0\n",
    "for row in yTest:\n",
    "    errors.append(yPrediction[n]-row)\n",
    "    n = n + 1    \n",
    "print(\"The Max value of errors is\", max(errors), \"\\nAnd the Min value of errors is\",min(errors))\n",
    "print(\"Average value of errors is\", mean(errors))"
   ]
  },
  {
   "cell_type": "markdown",
   "metadata": {},
   "source": [
    "## Random Forest"
   ]
  },
  {
   "cell_type": "markdown",
   "metadata": {},
   "source": [
    "Here we want to build a model with Random Forest to predict the Score2."
   ]
  },
  {
   "cell_type": "code",
   "execution_count": 28,
   "metadata": {},
   "outputs": [],
   "source": [
    "X = DF_new[['spi1','spi2','prob1', 'prob2' , 'probtie' , 'adj_score1' , 'adj_score2'  , 'xg1' , 'xg2' , 'nsxg1', 'nsxg2' ]].values\n",
    "Y = DF_new['score2'].values\n",
    "xTrain, xTest, yTrain, yTest = train_test_split(X, Y, test_size = 0.3)\n",
    "RF = RandomForestRegressor(n_estimators=2000, max_features=11)\n",
    "RF.fit(xTrain, yTrain)\n",
    "yPrediction = RF.predict(xTest)"
   ]
  },
  {
   "cell_type": "code",
   "execution_count": 33,
   "metadata": {},
   "outputs": [
    {
     "name": "stdout",
     "output_type": "stream",
     "text": [
      "      Score2 actual value  Score2 prediction\n",
      "0                     1.0                1.0\n",
      "1                     0.0                0.0\n",
      "2                     1.0                1.0\n",
      "3                     0.0                0.0\n",
      "4                     1.0                1.0\n",
      "...                   ...                ...\n",
      "3941                  1.0                1.0\n",
      "3942                  1.0                1.0\n",
      "3943                  3.0                3.0\n",
      "3944                  3.0                3.0\n",
      "3945                  1.0                1.0\n",
      "\n",
      "[3946 rows x 2 columns]\n"
     ]
    }
   ],
   "source": [
    "Prediction_Table = pd.DataFrame ({'Score2 actual value':yTest , 'Score2 prediction': yPrediction})\n",
    "print(Prediction_Table)"
   ]
  },
  {
   "cell_type": "markdown",
   "metadata": {},
   "source": [
    "To see the propose model errors:"
   ]
  },
  {
   "cell_type": "code",
   "execution_count": 34,
   "metadata": {},
   "outputs": [
    {
     "name": "stdout",
     "output_type": "stream",
     "text": [
      "The Max value of errors is 1.146 \n",
      "And the Min value of errors is -1.0\n",
      "Average value of errors is 0.0014872022301064373\n"
     ]
    }
   ],
   "source": [
    "errors = list()\n",
    "n = 0\n",
    "for row in yTest:\n",
    "    errors.append(yPrediction[n]-row)\n",
    "    n = n + 1   \n",
    "print(\"The Max value of errors is\", max(errors), \"\\nAnd the Min value of errors is\",min(errors))\n",
    "print(\"Average value of errors is\", mean(errors))"
   ]
  },
  {
   "cell_type": "code",
   "execution_count": 37,
   "metadata": {},
   "outputs": [
    {
     "data": {
      "image/png": "[encoded data removed]",
      "text/plain": [
       "<Figure size 432x288 with 1 Axes>"
      ]
     },
     "metadata": {
      "needs_background": "light"
     },
     "output_type": "display_data"
    }
   ],
   "source": [
    "df = Prediction_Table.head(500)\n",
    "error = df['Score2 actual value'] - df['Score2 prediction']\n",
    "plt.plot(error)\n",
    "plt.ylabel('errors')\n",
    "plt.xlabel('500 Datasets')\n",
    "plt.show()"
   ]
  },
  {
   "cell_type": "markdown",
   "metadata": {},
   "source": [
    "## Conclusion"
   ]
  },
  {
   "cell_type": "markdown",
   "metadata": {},
   "source": [
    "In conclusion, two Regression models are applied to this dataset and they were really effective to predict scores as it can be seen above. To compare these two methods it seems that Random Forest is more accurate than Linear Regression."
   ]
  }
 ],
 "metadata": {
  "kernelspec": {
   "display_name": "Python 3",
   "language": "python",
   "name": "python3"
  },
  "language_info": {
   "codemirror_mode": {
    "name": "ipython",
    "version": 3
   },
   "file_extension": ".py",
   "mimetype": "text/x-python",
   "name": "python",
   "nbconvert_exporter": "python",
   "pygments_lexer": "ipython3",
   "version": "3.7.4"
  }
 },
 "nbformat": 4,
 "nbformat_minor": 2
}
